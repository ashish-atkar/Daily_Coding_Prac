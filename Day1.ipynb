{
 "cells": [
  {
   "cell_type": "markdown",
   "metadata": {},
   "source": [
    "### 1. Given an array nums containing n + 1 integers where each integer is between 1 and n (inclusive), prove that at least one duplicate number must exist. Assume that there is only one duplicate number, find the duplicate one."
   ]
  },
  {
   "cell_type": "code",
   "execution_count": 25,
   "metadata": {},
   "outputs": [
    {
     "name": "stdout",
     "output_type": "stream",
     "text": [
      "2\n"
     ]
    }
   ],
   "source": [
    "def findDuplicate(nums):\n",
    "    nums.sort()\n",
    "    for i,s in enumerate(nums):\n",
    "        if i+1 > s:\n",
    "            return s\n",
    "\n",
    "n = [1,3,4,2,2]\n",
    "print(findDuplicate(n))           "
   ]
  },
  {
   "cell_type": "markdown",
   "metadata": {},
   "source": [
    "### 2. Sort an array of 0s, 1s and 2s without using any sorting technique and without simply counting and assigning values"
   ]
  },
  {
   "cell_type": "code",
   "execution_count": 32,
   "metadata": {},
   "outputs": [
    {
     "name": "stdout",
     "output_type": "stream",
     "text": [
      "[0, 1, 1, 1, 2, 2]\n"
     ]
    }
   ],
   "source": [
    "def sortcolors(nums):\n",
    "    low = 0\n",
    "    mid = 0\n",
    "    high = len(nums)-1\n",
    "    \n",
    "    while mid <= high:\n",
    "        if nums[mid] == 0:\n",
    "            nums[mid],nums[low] = nums[low],nums[mid]\n",
    "            low += 1\n",
    "            mid += 1\n",
    "        elif nums[mid] == 1:\n",
    "            mid += 1\n",
    "        elif nums[mid] == 2:\n",
    "            nums[mid],nums[high] = nums[high],nums[mid]\n",
    "            high = high-1\n",
    "    return nums\n",
    "\n",
    "print(sortcolors([1,2,1,1,2,0]))\n",
    "    \n",
    "    \n",
    "        "
   ]
  },
  {
   "cell_type": "markdown",
   "metadata": {},
   "source": [
    "### 3. Function to find subarray's of array"
   ]
  },
  {
   "cell_type": "code",
   "execution_count": 34,
   "metadata": {},
   "outputs": [
    {
     "data": {
      "text/plain": [
       "[[1],\n",
       " [1, 2],\n",
       " [1, 2, 3],\n",
       " [1, 2, 3, 4],\n",
       " [2],\n",
       " [2, 3],\n",
       " [2, 3, 4],\n",
       " [3],\n",
       " [3, 4],\n",
       " [4]]"
      ]
     },
     "execution_count": 34,
     "metadata": {},
     "output_type": "execute_result"
    }
   ],
   "source": [
    "def sub_arr(arr):\n",
    "    sub_s=[]\n",
    "    for i in range(0,len(arr)):\n",
    "        for j in range(i,len(arr)):\n",
    "            a=[]\n",
    "            for k in range(i,j+1):\n",
    "                a.append(arr[k])\n",
    "            sub_s.append(a)\n",
    "    return sub_s\n",
    "\n",
    "sub_arr([1,2,3,4])"
   ]
  },
  {
   "cell_type": "code",
   "execution_count": 38,
   "metadata": {},
   "outputs": [],
   "source": [
    "s=[]\n",
    "def printSubArrays(arr, start, end): \n",
    "    \n",
    "    # Stop if we have reached the end of the array     \n",
    "    if end == len(arr): \n",
    "        return\n",
    "      \n",
    "    # Increment the end point and start from 0 \n",
    "    elif start > end: \n",
    "        return printSubArrays(arr, 0, end + 1) \n",
    "          \n",
    "    # Print the subarray and increment the starting \n",
    "    # point \n",
    "    else: \n",
    "        s.append(arr[start:end + 1]) \n",
    "        return printSubArrays(arr, start + 1, end) \n",
    "          \n",
    "# Driver code \n",
    "arr = [1, 2, 3] \n",
    "printSubArrays(arr, 0, 0) "
   ]
  },
  {
   "cell_type": "code",
   "execution_count": 39,
   "metadata": {},
   "outputs": [
    {
     "data": {
      "text/plain": [
       "[[1], [1, 2], [2], [1, 2, 3], [2, 3], [3]]"
      ]
     },
     "execution_count": 39,
     "metadata": {},
     "output_type": "execute_result"
    }
   ],
   "source": [
    "s"
   ]
  },
  {
   "cell_type": "markdown",
   "metadata": {},
   "source": [
    "### 4. Product of all subarrays of an array"
   ]
  },
  {
   "cell_type": "code",
   "execution_count": 40,
   "metadata": {},
   "outputs": [
    {
     "data": {
      "text/plain": [
       "432"
      ]
     },
     "execution_count": 40,
     "metadata": {},
     "output_type": "execute_result"
    }
   ],
   "source": [
    "def product_subarr(arr):\n",
    "    \n",
    "    res = 1\n",
    "     \n",
    "    for i in range(len(arr)):\n",
    "        prod = 1\n",
    "        for j in range(i,len(arr)):\n",
    "            prod *= arr[j]\n",
    "            res = res * prod\n",
    "    return res\n",
    "\n",
    "product_subarr([1,2,3])"
   ]
  },
  {
   "cell_type": "markdown",
   "metadata": {},
   "source": [
    "### Reverse the int number "
   ]
  },
  {
   "cell_type": "code",
   "execution_count": 77,
   "metadata": {},
   "outputs": [],
   "source": [
    "\n",
    "def reverse(self, x):\n",
    "    sign = [1,-1][x < 0]\n",
    "    rst = sign * int(str(abs(x))[::-1])\n",
    "    return rst if -(2**31)-1 < rst < 2**31 else 0"
   ]
  },
  {
   "cell_type": "code",
   "execution_count": null,
   "metadata": {},
   "outputs": [],
   "source": []
  },
  {
   "cell_type": "code",
   "execution_count": null,
   "metadata": {},
   "outputs": [],
   "source": []
  }
 ],
 "metadata": {
  "kernelspec": {
   "display_name": "Python 3",
   "language": "python",
   "name": "python3"
  },
  "language_info": {
   "codemirror_mode": {
    "name": "ipython",
    "version": 3
   },
   "file_extension": ".py",
   "mimetype": "text/x-python",
   "name": "python",
   "nbconvert_exporter": "python",
   "pygments_lexer": "ipython3",
   "version": "3.7.3"
  }
 },
 "nbformat": 4,
 "nbformat_minor": 2
}

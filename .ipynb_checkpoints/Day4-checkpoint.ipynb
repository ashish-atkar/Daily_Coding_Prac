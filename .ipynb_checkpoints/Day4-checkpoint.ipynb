{
 "cells": [
  {
   "cell_type": "code",
   "execution_count": 12,
   "metadata": {},
   "outputs": [],
   "source": [
    "#Time complexity : O(n log(n))\n",
    "#space complexity : O(1)\n",
    "\n",
    "def twoNumberSum(array,targetSum):\n",
    "    array.sort()\n",
    "    left = 0\n",
    "    right = len(array)-1\n",
    "    while left < right:\n",
    "        curr_sum = array[left] + array[right]\n",
    "        if curr_sum == targetSum:\n",
    "            return [array[left],array[right]]\n",
    "        elif curr_sum < targetSum:\n",
    "            left += 1\n",
    "        elif curr_sum > targetSum:\n",
    "            right -= 1\n",
    "    return []\n",
    "\n",
    "\n",
    "def twoNumbersSum_hash(array,targetSum):\n",
    "    nums = {}\n",
    "    for num in array:\n",
    "        if targetSum-num in nums:\n",
    "            return [num,targetSum-num]\n",
    "        else:\n",
    "            nums[num] = True\n",
    "    return True\n",
    "    "
   ]
  },
  {
   "cell_type": "code",
   "execution_count": 9,
   "metadata": {},
   "outputs": [
    {
     "name": "stdout",
     "output_type": "stream",
     "text": [
      "[5, 8]\n"
     ]
    }
   ],
   "source": [
    "print(twoNumberSum([-4,-1,1,5,8,11,3,6],13))"
   ]
  },
  {
   "cell_type": "code",
   "execution_count": 14,
   "metadata": {},
   "outputs": [
    {
     "name": "stdout",
     "output_type": "stream",
     "text": [
      "[8, 5]\n"
     ]
    }
   ],
   "source": [
    "print(twoNumbersSum_hash([-4,-1,1,5,8,11,3,6],13))"
   ]
  },
  {
   "cell_type": "code",
   "execution_count": null,
   "metadata": {},
   "outputs": [],
   "source": []
  }
 ],
 "metadata": {
  "kernelspec": {
   "display_name": "Python 3",
   "language": "python",
   "name": "python3"
  },
  "language_info": {
   "codemirror_mode": {
    "name": "ipython",
    "version": 3
   },
   "file_extension": ".py",
   "mimetype": "text/x-python",
   "name": "python",
   "nbconvert_exporter": "python",
   "pygments_lexer": "ipython3",
   "version": "3.7.3"
  }
 },
 "nbformat": 4,
 "nbformat_minor": 2
}
